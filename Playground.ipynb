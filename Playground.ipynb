{
 "cells": [
  {
   "cell_type": "markdown",
   "metadata": {},
   "source": [
    "# osu!t autoSR^2 : Statistical Inference of Star Rating and Skill Ratings in osu!taiko"
   ]
  },
  {
   "cell_type": "code",
   "execution_count": 4,
   "metadata": {},
   "outputs": [],
   "source": [
    "# Osu API\n",
    "from ossapi import *\n",
    "import os\n",
    "api = OssapiV2(int(os.environ['OSUAPIv2_APP_ID']), os.environ['OSUAPIv2_APP_SECRET'], os.environ['OSUAPIv2_APP_CALLBACK'])\n",
    "apiv1 = Ossapi(os.environ['OSUAPIv1_KEY'])"
   ]
  },
  {
   "cell_type": "code",
   "execution_count": 5,
   "metadata": {},
   "outputs": [
    {
     "data": {
      "text/plain": [
       "'betairylia'"
      ]
     },
     "execution_count": 5,
     "metadata": {},
     "output_type": "execute_result"
    }
   ],
   "source": [
    "apiv1.get_user(1558839).username"
   ]
  },
  {
   "cell_type": "code",
   "execution_count": 12,
   "metadata": {},
   "outputs": [],
   "source": [
    "import requests\n",
    "\n",
    "def get_replay(replay_id):\n",
    "    url = 'https://osu.ppy.sh/scores/taiko/%s/download' % replay_id\n",
    "    r = requests.get(url, allow_redirects=True)\n",
    "    open('replays/%s.osr' % replay_id, 'wb').write(r.content)\n",
    "\n",
    "get_replay(143559000)"
   ]
  },
  {
   "cell_type": "code",
   "execution_count": 14,
   "metadata": {},
   "outputs": [
    {
     "ename": "ReplayUnavailableException",
     "evalue": "Could not find any replay data",
     "output_type": "error",
     "traceback": [
      "\u001b[1;31m---------------------------------------------------------------------------\u001b[0m",
      "\u001b[1;31mReplayUnavailableException\u001b[0m                Traceback (most recent call last)",
      "\u001b[1;32m~\\AppData\\Local\\Temp/ipykernel_33604/3301056510.py\u001b[0m in \u001b[0;36m<module>\u001b[1;34m\u001b[0m\n\u001b[0;32m      2\u001b[0m \u001b[0mliev1\u001b[0m\u001b[1;33m[\u001b[0m\u001b[1;36m0\u001b[0m\u001b[1;33m]\u001b[0m\u001b[1;33m.\u001b[0m\u001b[0mreplay_id\u001b[0m\u001b[1;33m\u001b[0m\u001b[1;33m\u001b[0m\u001b[0m\n\u001b[0;32m      3\u001b[0m \u001b[1;33m\u001b[0m\u001b[0m\n\u001b[1;32m----> 4\u001b[1;33m \u001b[0mapiv1\u001b[0m\u001b[1;33m.\u001b[0m\u001b[0mget_replay\u001b[0m\u001b[1;33m(\u001b[0m\u001b[0mbeatmap_id\u001b[0m \u001b[1;33m=\u001b[0m \u001b[1;36m1921771\u001b[0m\u001b[1;33m,\u001b[0m \u001b[0muser\u001b[0m \u001b[1;33m=\u001b[0m \u001b[0mliev1\u001b[0m\u001b[1;33m[\u001b[0m\u001b[1;36m0\u001b[0m\u001b[1;33m]\u001b[0m\u001b[1;33m.\u001b[0m\u001b[0muser_id\u001b[0m\u001b[1;33m)\u001b[0m\u001b[1;33m\u001b[0m\u001b[1;33m\u001b[0m\u001b[0m\n\u001b[0m\u001b[0;32m      5\u001b[0m \u001b[1;33m\u001b[0m\u001b[0m\n\u001b[0;32m      6\u001b[0m \u001b[1;31m# liemap = api.beatmap(1921771)\u001b[0m\u001b[1;33m\u001b[0m\u001b[1;33m\u001b[0m\u001b[1;33m\u001b[0m\u001b[0m\n",
      "\u001b[1;32m~\\Anaconda3\\envs\\osu\\lib\\site-packages\\ossapi\\ossapi.py\u001b[0m in \u001b[0;36mget_replay\u001b[1;34m(self, beatmap_id, user, mode, score_id, user_type, mods)\u001b[0m\n\u001b[0;32m    145\u001b[0m         params = {\"b\": beatmap_id, \"u\": user, \"m\": mode, \"s\": score_id,\n\u001b[0;32m    146\u001b[0m             \"type\": user_type, \"mods\": mods}\n\u001b[1;32m--> 147\u001b[1;33m         \u001b[0mr\u001b[0m \u001b[1;33m=\u001b[0m \u001b[0mself\u001b[0m\u001b[1;33m.\u001b[0m\u001b[0m_get\u001b[0m\u001b[1;33m(\u001b[0m\u001b[1;34m\"get_replay\"\u001b[0m\u001b[1;33m,\u001b[0m \u001b[0mparams\u001b[0m\u001b[1;33m,\u001b[0m \u001b[0mReplay\u001b[0m\u001b[1;33m)\u001b[0m\u001b[1;33m\u001b[0m\u001b[1;33m\u001b[0m\u001b[0m\n\u001b[0m\u001b[0;32m    148\u001b[0m         \u001b[1;32mreturn\u001b[0m \u001b[0mr\u001b[0m\u001b[1;33m.\u001b[0m\u001b[0mcontent\u001b[0m\u001b[1;33m\u001b[0m\u001b[1;33m\u001b[0m\u001b[0m\n\u001b[0;32m    149\u001b[0m \u001b[1;33m\u001b[0m\u001b[0m\n",
      "\u001b[1;32m~\\Anaconda3\\envs\\osu\\lib\\site-packages\\ossapi\\ossapi.py\u001b[0m in \u001b[0;36m_get\u001b[1;34m(self, endpoint, params, type_, list_, _beatmap_id)\u001b[0m\n\u001b[0;32m     82\u001b[0m             \u001b[0merror\u001b[0m \u001b[1;33m=\u001b[0m \u001b[0mdata\u001b[0m\u001b[1;33m[\u001b[0m\u001b[1;34m\"error\"\u001b[0m\u001b[1;33m]\u001b[0m\u001b[1;33m\u001b[0m\u001b[1;33m\u001b[0m\u001b[0m\n\u001b[0;32m     83\u001b[0m             \u001b[1;32mif\u001b[0m \u001b[0merror\u001b[0m \u001b[1;33m==\u001b[0m \u001b[1;34m\"Replay not available.\"\u001b[0m\u001b[1;33m:\u001b[0m\u001b[1;33m\u001b[0m\u001b[1;33m\u001b[0m\u001b[0m\n\u001b[1;32m---> 84\u001b[1;33m                 raise ReplayUnavailableException(\"Could not find any replay \"\n\u001b[0m\u001b[0;32m     85\u001b[0m                     \"data\")\n\u001b[0;32m     86\u001b[0m             \u001b[1;32mif\u001b[0m \u001b[0merror\u001b[0m \u001b[1;33m==\u001b[0m \u001b[1;34m\"Requesting too fast! Slow your operation, cap'n!\"\u001b[0m\u001b[1;33m:\u001b[0m\u001b[1;33m\u001b[0m\u001b[1;33m\u001b[0m\u001b[0m\n",
      "\u001b[1;31mReplayUnavailableException\u001b[0m: Could not find any replay data"
     ]
    }
   ],
   "source": [
    "liev1 = apiv1.get_scores(1921771, mode=1, mods=0, limit=100)\n",
    "liev1\n",
    "\n",
    "liemap = api.beatmap(1921771)\n",
    "print(liemap)"
   ]
  },
  {
   "cell_type": "code",
   "execution_count": 48,
   "metadata": {},
   "outputs": [
    {
     "data": {
      "text/plain": [
       "'CreepyDuck'"
      ]
     },
     "execution_count": 48,
     "metadata": {},
     "output_type": "execute_result"
    }
   ],
   "source": [
    "liev1[0].username"
   ]
  },
  {
   "cell_type": "code",
   "execution_count": 54,
   "metadata": {
    "scrolled": false
   },
   "outputs": [
    {
     "name": "stdout",
     "output_type": "stream",
     "text": [
      "          _yu68 |  99.33 % +DT\n",
      "          _Kan2 |  99.04 % +NC\n",
      "        sing216 | 100.00 % +HR\n",
      "          v2fax | 100.00 % +HR\n",
      "        Taka030 |  99.78 % +HR\n",
      "       namaniku |  97.55 % +DT\n",
      "          _Rise | 100.00 % +HD\n",
      "            yea |  98.59 % +HR\n",
      "  apaajaboleh10 |  99.41 % +HD\n",
      "          HiroK |  99.41 % +HD\n",
      "       Peaceful |  95.40 % +HDDT\n",
      "         zkane2 |  99.26 % +HD\n",
      "          Jonah |  98.37 % +HR\n",
      "    nyanmi-1828 |  98.66 % +HR\n",
      "  Nekomusya7563 |  99.33 % +HD\n",
      "          Roger |  99.55 % +HD\n",
      "            ZTH |  98.00 % +HR\n",
      "  iloveyou4ever |  98.37 % +HD\n",
      "    phosphene47 |  97.92 % +HD\n",
      "   POCARI SWEAT |  97.70 % +HD\n",
      "          Whulf |  97.26 % +HR\n",
      "          Coryn |  97.63 % +HR\n",
      "            pet |  99.41 % +HR\n",
      "        john571 |  98.52 % +HR\n",
      "     Element118 |  95.99 % +HR\n",
      "     CreepyDuck |  99.93 % +NM\n",
      "            Lze |  99.93 % +NM\n",
      "         yassu- |  99.93 % +NM\n",
      "          1rori |  99.93 % +NM\n",
      "    HimekuriR18 |  99.78 % +NM\n",
      "        fujisam |  99.78 % +NM\n",
      "        Ghost_r |  99.63 % +NM\n",
      "     HEKUSODASU |  99.63 % +NM\n",
      "     owatanimal |  99.48 % +NM\n",
      "          jyake |  99.48 % +NM\n",
      "      shoucan91 |  99.48 % +NM\n",
      "       JDrago14 |  99.41 % +NM\n",
      "      Enko_chan |  99.26 % +NM\n",
      "      imotoniku |  99.41 % +NM\n",
      "  Xin Leviathan |  99.18 % +NM\n",
      "        Fantazy |  99.26 % +NM\n",
      "       kiyozi11 |  96.22 % +DT\n",
      "      hiyokokko |  98.96 % +NM\n",
      "       HarryAda |  99.18 % +NM\n",
      "         aosoki |  99.04 % +NM\n",
      "  sigu_samidare |  98.96 % +NM\n",
      "         komasy |  98.89 % +NM\n",
      "Acky_chinolover |  98.81 % +NM\n",
      "       kur4yam1 |  98.89 % +NM\n",
      "      Six b0xes |  98.96 % +NM\n",
      "\n",
      "*=*=*=*=*=*=*=*=*=*=*=*=*=*=*=*=*=*=*=*=*=*=*=*=*=*=*=*=*=*=*=*=*=*=*=*=*=*=*=*=*=*=*=*=\n",
      "Api V1\n",
      "\n",
      "     CreepyDuck |  99.93 % +NM\n",
      "            Lze |  99.93 % +NM\n",
      "         yassu- |  99.93 % +NM\n",
      "   POCARI SWEAT |  99.93 % +NM\n",
      "          1rori |  99.93 % +NM\n",
      "    HimekuriR18 |  99.78 % +NM\n",
      "        fujisam |  99.78 % +NM\n",
      "        Ghost_r |  99.63 % +NM\n",
      "          Roger |  99.70 % +NM\n",
      "         zkane2 |  99.48 % +NM\n",
      "     HEKUSODASU |  99.63 % +NM\n",
      "     owatanimal |  99.48 % +NM\n",
      "  Nekomusya7563 |  99.78 % +NM\n",
      "          jyake |  99.48 % +NM\n",
      "      shoucan91 |  99.48 % +NM\n",
      "            yea |  99.41 % +NM\n",
      "       JDrago14 |  99.41 % +NM\n",
      "      Enko_chan |  99.26 % +NM\n",
      "      imotoniku |  99.41 % +NM\n",
      "  Xin Leviathan |  99.18 % +NM\n",
      "        Fantazy |  99.26 % +NM\n",
      "        john571 |  99.11 % +NM\n",
      "      hiyokokko |  98.96 % +NM\n",
      "       HarryAda |  99.18 % +NM\n",
      "         aosoki |  99.04 % +NM\n",
      "  sigu_samidare |  98.96 % +NM\n",
      "         komasy |  98.89 % +NM\n",
      "Acky_chinolover |  98.81 % +NM\n",
      "       kur4yam1 |  98.89 % +NM\n",
      "      Six b0xes |  98.96 % +NM\n",
      "          Whulf |  98.96 % +NM\n",
      "       vodnanen |  99.04 % +NM\n",
      "     solros1101 |  99.04 % +NM\n",
      "         wen294 |  98.52 % +NM\n",
      "            9_9 |  98.22 % +NM\n",
      "           Liz7 |  99.11 % +NM\n",
      "        paction |  98.44 % +NM\n",
      "          Reu70 |  98.15 % +NM\n",
      "     ChurroChef |  98.29 % +NM\n",
      "      apfhd9898 |  98.15 % +NM\n",
      "       Mikalodo |  98.22 % +NM\n",
      "       Maimaing |  98.15 % +NM\n",
      "  apaajaboleh10 |  98.15 % +NM\n",
      "      elahen800 |  98.15 % +NM\n",
      " Senju-Muramasa |  98.22 % +NM\n",
      "          xpokn |  98.07 % +NM\n",
      "          Jonah |  98.07 % +NM\n",
      "        Salimen |  97.48 % +NM\n",
      "       namaniku |  97.63 % +NM\n",
      "        kalmlpv |  98.15 % +NM\n",
      "        Vanity8 |  97.85 % +NM\n",
      "        Dynutka |  97.33 % +NM\n",
      "       LiLy1735 |  96.96 % +NM\n",
      "       wajosong |  98.22 % +NM\n",
      "           KZYS |  98.66 % +NM\n",
      "          Niro- |  96.88 % +NM\n",
      "   noct-arcadia |  96.96 % +NM\n",
      "          D o t |  96.59 % +NM\n",
      "       Articlle |  98.07 % +NM\n",
      "  kamakuraikusa |  98.52 % +NM\n",
      "       yy121011 |  95.77 % +NM\n",
      "            Ozu |  95.62 % +NM\n",
      "      kaisendon |  96.96 % +NM\n",
      "          KMYK_ |  98.37 % +NM\n",
      "     kakeru2315 |  97.33 % +NM\n",
      "         suyuyu |  97.11 % +NM\n",
      "          N-2yn |  96.74 % +NM\n",
      "         Masque |  99.26 % +NM\n",
      "     butter0414 |  98.89 % +NM\n",
      "      Rabar0209 |  98.81 % +NM\n",
      "        Naninub |  98.81 % +NM\n",
      "        C-light |  98.52 % +NM\n",
      "            Das |  98.44 % +NM\n",
      "          -Dusk |  98.37 % +NM\n",
      "       -Akitai- |  98.44 % +NM\n",
      "         Noyk_n |  98.29 % +NM\n",
      "        Genjuro |  98.07 % +NM\n",
      "  SilverTyrantX |  98.15 % +NM\n",
      "         Vulkin |  97.85 % +NM\n",
      "        miki308 |  97.48 % +NM\n",
      "           Pare |  97.70 % +NM\n",
      "     baluxi4572 |  98.22 % +NM\n",
      "         Faputa |  98.66 % +NM\n",
      "   Shamirin_mzk |  97.11 % +NM\n",
      "         dihidi |  97.48 % +NM\n",
      "     autumndayo |  97.55 % +NM\n",
      "  VestaraKhai48 |  96.96 % +NM\n",
      "            kie |  98.22 % +NM\n",
      "      Mizuan-8x |  97.55 % +NM\n",
      "          9chi8 |  97.40 % +NM\n",
      "      Otaku9801 |  95.85 % +NM\n",
      "     lukitsa124 |  96.22 % +NM\n",
      " Cosmic Corsair |  96.59 % +NM\n",
      "          Glipe |  96.59 % +NM\n",
      "        Eyenine |  95.99 % +NM\n",
      "       sakakuxx |  98.15 % +NM\n",
      "        ilv_Rem |  96.66 % +NM\n",
      "         Svidya |  97.11 % +NM\n",
      "        Rimazii |  97.18 % +NM\n",
      "           woog |  96.36 % +NM\n"
     ]
    }
   ],
   "source": [
    "# API V2\n",
    "for score in lie.scores:\n",
    "#     print(\"%15s | %6.2f %% +%s\" % (score.user.username, score.accuracy * 100, repr([i.short_name() for i in score.mods.decompose()])))\n",
    "    print(\"%15s | %6.2f %% +%s\" % (score.user.username, score.accuracy * 100, score.mods.short_name())) \n",
    "    \n",
    "def get_acc(c_300, c_100, c_miss):\n",
    "    total = c_300 + c_100 + c_miss\n",
    "    acc = (c_300 + 0.5 * c_100) / total\n",
    "    return acc\n",
    "    \n",
    "print(\"\\n*=*=*=*=*=*=*=*=*=*=*=*=*=*=*=*=*=*=*=*=*=*=*=*=*=*=*=*=*=*=*=*=*=*=*=*=*=*=*=*=*=*=*=*=\\nApi V1\\n\")\n",
    "    \n",
    "# API V1\n",
    "for score in liev1:\n",
    "#     print(\"%15s | %6.2f %% +%s\" % (score.user.username, score.accuracy * 100, repr([i.short_name() for i in score.mods.decompose()])))\n",
    "    print(\"%15s | %6.2f %% +%s\" % (score.username, get_acc(score.count_300, score.count_100, score.count_miss) * 100, score.mods.short_name()))"
   ]
  }
 ],
 "metadata": {
  "kernelspec": {
   "display_name": "Python 3 (ipykernel)",
   "language": "python",
   "name": "python3"
  },
  "language_info": {
   "codemirror_mode": {
    "name": "ipython",
    "version": 3
   },
   "file_extension": ".py",
   "mimetype": "text/x-python",
   "name": "python",
   "nbconvert_exporter": "python",
   "pygments_lexer": "ipython3",
   "version": "3.9.6"
  }
 },
 "nbformat": 4,
 "nbformat_minor": 2
}
